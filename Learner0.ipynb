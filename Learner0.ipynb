{
  "nbformat": 4,
  "nbformat_minor": 0,
  "metadata": {
    "colab": {
      "provenance": [],
      "authorship_tag": "ABX9TyN3CasPbd7yooPahKa0QAuu",
      "include_colab_link": true
    },
    "kernelspec": {
      "name": "python3",
      "display_name": "Python 3"
    },
    "language_info": {
      "name": "python"
    }
  },
  "cells": [
    {
      "cell_type": "markdown",
      "metadata": {
        "id": "view-in-github",
        "colab_type": "text"
      },
      "source": [
        "<a href=\"https://colab.research.google.com/github/aspire2inspire1-art/aspire2inspire1/blob/main/Learner0.ipynb\" target=\"_parent\"><img src=\"https://colab.research.google.com/assets/colab-badge.svg\" alt=\"Open In Colab\"/></a>"
      ]
    },
    {
      "cell_type": "code",
      "execution_count": null,
      "metadata": {
        "id": "tkB-FFy9lapy"
      },
      "outputs": [],
      "source": [
        "import pandas as pd"
      ]
    },
    {
      "cell_type": "code",
      "source": [
        "# Case sensitive and End of line indicator\n",
        "name='AAAA'\n",
        "name2='BBBB'\n",
        "print(name)\n",
        "#print(Name)\n",
        "print(name2)\n"
      ],
      "metadata": {
        "id": "ViKK7GJmlkpH",
        "outputId": "d0805ab9-5864-4ac6-8bac-6cd4956e3a09",
        "colab": {
          "base_uri": "https://localhost:8080/"
        }
      },
      "execution_count": 2,
      "outputs": [
        {
          "output_type": "stream",
          "name": "stdout",
          "text": [
            "AAAA\n",
            "BBBB\n"
          ]
        }
      ]
    }
  ]
}